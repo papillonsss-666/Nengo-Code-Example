{
  "nbformat": 4,
  "nbformat_minor": 0,
  "metadata": {
    "colab": {
      "provenance": [],
      "authorship_tag": "ABX9TyM0tTwAhxtpiiS8CWwUWaYe",
      "include_colab_link": true
    },
    "kernelspec": {
      "name": "python3",
      "display_name": "Python 3"
    },
    "language_info": {
      "name": "python"
    }
  },
  "cells": [
    {
      "cell_type": "markdown",
      "metadata": {
        "id": "view-in-github",
        "colab_type": "text"
      },
      "source": [
        "<a href=\"https://colab.research.google.com/github/papillonsss-666/Nengo-Code-Example/blob/main/Nengo_Spike_Data_to_CSV.ipynb\" target=\"_parent\"><img src=\"https://colab.research.google.com/assets/colab-badge.svg\" alt=\"Open In Colab\"/></a>"
      ]
    },
    {
      "cell_type": "markdown",
      "source": [
        "# Nengo Spike Data to CSV"
      ],
      "metadata": {
        "id": "7p5ILDouo5Zp"
      }
    },
    {
      "cell_type": "markdown",
      "source": [
        "The function is used to convert spike trains generated in Nengo to a csv file where each column represents a neuron and each entry contains the time stamp of the neuron's spike. \\\n",
        "The input parameter can be acquired by\n",
        "\n",
        "```\n",
        "spikes = sim.data[ens_1_spike]\n",
        "```\n",
        "\n",
        "\n",
        "\n"
      ],
      "metadata": {
        "id": "1EqqTQT_o85D"
      }
    },
    {
      "cell_type": "code",
      "execution_count": null,
      "metadata": {
        "id": "UGycefx7oiYx"
      },
      "outputs": [],
      "source": [
        "def spikes_to_csv(spikes):\n",
        "  nrow, ncol = spikes.shape\n",
        "  result = np.zeros(nrow*ncol).reshape(nrow, ncol)\n",
        "  for i in range(ncol):\n",
        "    spike = spikes[:, i]\n",
        "    spike_time = np.nonzero(spike)[0]\n",
        "    spike_time = np.append(spike_time, [np.nan]*(spikes.shape[0]-len(spike_time)))\n",
        "    result[:, i] = spike_time*0.001\n",
        "  np.savetxt(\"nengo_data.csv\", result, delimiter=\",\")\n",
        "  print(result)"
      ]
    },
    {
      "cell_type": "markdown",
      "source": [
        "Since different neurons will have different number of spikes, the columns in the output data file will have different lengths. The columns will be filled with nan."
      ],
      "metadata": {
        "id": "T648Ouw8pvMU"
      }
    }
  ]
}